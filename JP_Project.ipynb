{
 "cells": [
  {
   "cell_type": "markdown",
   "metadata": {},
   "source": [
    "**Hypothesis: Do STEM fields have a statistically significant difference in the number of A grades compared to humanities?**"
   ]
  },
  {
   "cell_type": "code",
   "execution_count": 38,
   "metadata": {},
   "outputs": [],
   "source": [
    "import pandas as pd\n",
    "import numpy as np\n",
    "from scipy import stats\n",
    "subjects = pd.read_csv('subjects.csv')\n",
    "subjects_code = pd.read_csv('subject_memberships.csv')\n",
    "grade_distributions = pd.read_csv('grade_distributions.csv')\n",
    "subjects = pd.DataFrame(subjects)\n",
    "subjects_code = pd.DataFrame(subjects_code)\n",
    "grade_distributions = pd.DataFrame(grade_distributions)"
   ]
  },
  {
   "cell_type": "code",
   "execution_count": 39,
   "metadata": {},
   "outputs": [],
   "source": [
    "subjects = subjects.rename(columns={\"code\": \"subject_code\"})\n",
    "subjects_code['subject_code'] = subjects_code['subject_code'].astype(str)\n",
    "\n",
    "subjects.set_index('subject_code', inplace=True)\n",
    "subjects_code.set_index('subject_code', inplace=True)\n",
    "\n",
    "subjects1 = subjects.join(subjects_code, how='outer', on='subject_code')\n"
   ]
  },
  {
   "cell_type": "code",
   "execution_count": 40,
   "metadata": {},
   "outputs": [],
   "source": [
    "grade_distributions.set_index('course_offering_uuid', inplace=True)\n",
    "subjects1.set_index('course_offering_uuid', inplace=True)"
   ]
  },
  {
   "cell_type": "markdown",
   "metadata": {},
   "source": [
    "- I cleaned my data by joining the numerous datasets, and dropping the null values which made up less thn 1% of the data"
   ]
  },
  {
   "cell_type": "code",
   "execution_count": 41,
   "metadata": {},
   "outputs": [],
   "source": [
    "df = subjects1.join(grade_distributions, how='outer')"
   ]
  },
  {
   "cell_type": "code",
   "execution_count": 42,
   "metadata": {},
   "outputs": [],
   "source": [
    "df = df.reset_index()"
   ]
  },
  {
   "cell_type": "markdown",
   "metadata": {},
   "source": [
    "- I manually created two lists for STEM and Humanities subjects."
   ]
  },
  {
   "cell_type": "code",
   "execution_count": 43,
   "metadata": {},
   "outputs": [],
   "source": [
    "STEM_subjects = ['chemical and biological engineering', 'engineering physics', 'biology', 'biochemistry', \n",
    "                 'mechanical engineering', 'biomolecular chemistry', 'biomedical engineering', 'chemistry', \n",
    "                 'medical physics', 'statistics', 'medicine', 'engineering mechanics and astronautics', \n",
    "                 'computer sciences']\n",
    "Humanities = ['art history', 'history of science', 'history', 'geography', 'english as a second language',\n",
    "              'african languages and literature', 'asian languages and cultures', 'asian languages and cultures: languages',\n",
    "             'comparative literature', 'literature in translation', 'law', 'political science', 'philosophy']"
   ]
  },
  {
   "cell_type": "code",
   "execution_count": 44,
   "metadata": {},
   "outputs": [],
   "source": [
    "df['No_Student'] = df.iloc[:, 4:-1].sum(axis=1)"
   ]
  },
  {
   "cell_type": "code",
   "execution_count": 45,
   "metadata": {},
   "outputs": [],
   "source": [
    "df = df.dropna()\n",
    "df = df.iloc[:,[1,4,-1]]"
   ]
  },
  {
   "cell_type": "code",
   "execution_count": 46,
   "metadata": {},
   "outputs": [],
   "source": [
    "df = df.groupby(['name']).sum().reset_index()"
   ]
  },
  {
   "cell_type": "code",
   "execution_count": 47,
   "metadata": {},
   "outputs": [],
   "source": [
    "df['STEM'] = df.name.apply(lambda x: 1 if x.lower() in STEM_subjects else 0)\n",
    "df['Humanities'] = df.name.apply(lambda x: 1 if x.lower() in Humanities else 0)\n",
    "df['to_drop'] = df['STEM']+df['Humanities']"
   ]
  },
  {
   "cell_type": "markdown",
   "metadata": {},
   "source": [
    "-  I dropped all subjects that were not STEM or Humanities subjects"
   ]
  },
  {
   "cell_type": "code",
   "execution_count": 48,
   "metadata": {},
   "outputs": [],
   "source": [
    "df = df[df.to_drop == 1]\n",
    "df = df.iloc[:,:-1]"
   ]
  },
  {
   "cell_type": "code",
   "execution_count": 49,
   "metadata": {},
   "outputs": [],
   "source": [
    "df = df.groupby(['Humanities','STEM']).sum().reset_index()"
   ]
  },
  {
   "cell_type": "code",
   "execution_count": 50,
   "metadata": {},
   "outputs": [],
   "source": [
    "df['perc_a'] = df['a_count']/df['No_Student']"
   ]
  },
  {
   "cell_type": "code",
   "execution_count": 51,
   "metadata": {},
   "outputs": [],
   "source": [
    "STEM = df.iloc[0:1,]\n",
    "Humanities = df.iloc[1:2,]"
   ]
  },
  {
   "cell_type": "code",
   "execution_count": 52,
   "metadata": {},
   "outputs": [
    {
     "data": {
      "text/plain": [
       "0.3067382051119961"
      ]
     },
     "execution_count": 52,
     "metadata": {},
     "output_type": "execute_result"
    }
   ],
   "source": [
    "zeros = np.zeros(shape=(int(Humanities.No_Student.sum() - Humanities.a_count.sum())))\n",
    "ones = np.ones(shape=(int(Humanities.a_count.sum())))\n",
    "hum_array = np.append(zeros,ones)\n",
    "hum_array.mean()"
   ]
  },
  {
   "cell_type": "code",
   "execution_count": 53,
   "metadata": {
    "scrolled": true
   },
   "outputs": [
    {
     "data": {
      "text/plain": [
       "0.3252248845725203"
      ]
     },
     "execution_count": 53,
     "metadata": {},
     "output_type": "execute_result"
    }
   ],
   "source": [
    "zeros1 = np.zeros(shape=(int(STEM.No_Student.sum() - STEM.a_count.sum())))\n",
    "ones1 = np.ones(shape=(int(STEM.a_count.sum())))\n",
    "stem_array = np.append(zeros1,ones1)\n",
    "stem_array.mean()"
   ]
  },
  {
   "cell_type": "code",
   "execution_count": 54,
   "metadata": {},
   "outputs": [
    {
     "data": {
      "text/html": [
       "<div>\n",
       "<style scoped>\n",
       "    .dataframe tbody tr th:only-of-type {\n",
       "        vertical-align: middle;\n",
       "    }\n",
       "\n",
       "    .dataframe tbody tr th {\n",
       "        vertical-align: top;\n",
       "    }\n",
       "\n",
       "    .dataframe thead th {\n",
       "        text-align: right;\n",
       "    }\n",
       "</style>\n",
       "<table border=\"1\" class=\"dataframe\">\n",
       "  <thead>\n",
       "    <tr style=\"text-align: right;\">\n",
       "      <th></th>\n",
       "      <th>Humanities</th>\n",
       "      <th>STEM</th>\n",
       "      <th>a_count</th>\n",
       "      <th>No_Student</th>\n",
       "      <th>perc_a</th>\n",
       "    </tr>\n",
       "  </thead>\n",
       "  <tbody>\n",
       "    <tr>\n",
       "      <td>0</td>\n",
       "      <td>0</td>\n",
       "      <td>1</td>\n",
       "      <td>163419.0</td>\n",
       "      <td>502480.0</td>\n",
       "      <td>0.325225</td>\n",
       "    </tr>\n",
       "    <tr>\n",
       "      <td>1</td>\n",
       "      <td>1</td>\n",
       "      <td>0</td>\n",
       "      <td>116455.0</td>\n",
       "      <td>379656.0</td>\n",
       "      <td>0.306738</td>\n",
       "    </tr>\n",
       "  </tbody>\n",
       "</table>\n",
       "</div>"
      ],
      "text/plain": [
       "   Humanities  STEM   a_count  No_Student    perc_a\n",
       "0           0     1  163419.0    502480.0  0.325225\n",
       "1           1     0  116455.0    379656.0  0.306738"
      ]
     },
     "execution_count": 54,
     "metadata": {},
     "output_type": "execute_result"
    }
   ],
   "source": [
    "df"
   ]
  },
  {
   "cell_type": "markdown",
   "metadata": {},
   "source": [
    "- I summed up all the data for the various subjects and added a column summarising the percentage of A's for each subject.\n",
    "- I then created an array for each subject to help conduct a t-test"
   ]
  },
  {
   "cell_type": "code",
   "execution_count": 55,
   "metadata": {},
   "outputs": [],
   "source": [
    "results = stats.ttest_ind(hum_array, stem_array,equal_var = False)"
   ]
  },
  {
   "cell_type": "code",
   "execution_count": 56,
   "metadata": {},
   "outputs": [
    {
     "data": {
      "text/plain": [
       "Ttest_indResult(statistic=-18.515814619584372, pvalue=1.5957064858066443e-76)"
      ]
     },
     "execution_count": 56,
     "metadata": {},
     "output_type": "execute_result"
    }
   ],
   "source": [
    "results"
   ]
  },
  {
   "cell_type": "markdown",
   "metadata": {},
   "source": [
    "- This is a two-sided Welch test for the null hypothesis that 2 independent samples have identical average (expected) values.\n",
    "- We can reject the null hypothesis and therefore state that there is a statistical significance between the two sample data sets, as the p-value is below our preset alpha of 0.05.\n",
    "\n",
    "- **This tells us that for the average student that wants to get a higher grade and is choosing between taking a STEM subject or a Humanities subject, they should choose a STEM subject.**"
   ]
  }
 ],
 "metadata": {
  "kernelspec": {
   "display_name": "Python 3",
   "language": "python",
   "name": "python3"
  },
  "language_info": {
   "codemirror_mode": {
    "name": "ipython",
    "version": 3
   },
   "file_extension": ".py",
   "mimetype": "text/x-python",
   "name": "python",
   "nbconvert_exporter": "python",
   "pygments_lexer": "ipython3",
   "version": "3.7.4"
  }
 },
 "nbformat": 4,
 "nbformat_minor": 2
}
