{
 "cells": [
  {
   "cell_type": "markdown",
   "metadata": {},
   "source": [
    "### Hypothesis :Does the college you graduated from affects your starting salary and does this affect continue even too your mid career ?(From -Stuti Singh)"
   ]
  },
  {
   "cell_type": "code",
   "execution_count": 2,
   "metadata": {},
   "outputs": [],
   "source": [
    "#importing relevant libraries\n",
    "import pandas as pd\n",
    "import researchpy as rp\n",
    "import scipy.stats as stats\n",
    "import numpy as np\n",
    "import matplotlib.pyplot as plt\n",
    "import seaborn as sns\n",
    "import re\n",
    "\n",
    "sns.set()"
   ]
  },
  {
   "cell_type": "code",
   "execution_count": 3,
   "metadata": {},
   "outputs": [],
   "source": [
    "#reading CSV file and creating a dataframe using Pandas\n",
    "sal_by_college=pd.read_csv('salaries-by-college-type.csv')\n",
    "sal_by_college.columns=['school_name', 'school_type', 'startmed_Sal',\n",
    "       'midcareer_med_sal', 'midcareer_10thpersal',\n",
    "       'midcareer_25thpercsal',\n",
    "       'midcareer_75thpercsal',\n",
    "       'midcareer_90thpersal']"
   ]
  },
  {
   "cell_type": "code",
   "execution_count": 4,
   "metadata": {},
   "outputs": [
    {
     "data": {
      "text/plain": [
       "school_name              False\n",
       "school_type              False\n",
       "startmed_Sal             False\n",
       "midcareer_med_sal        False\n",
       "midcareer_10thpersal      True\n",
       "midcareer_25thpercsal    False\n",
       "midcareer_75thpercsal    False\n",
       "midcareer_90thpersal      True\n",
       "dtype: bool"
      ]
     },
     "execution_count": 4,
     "metadata": {},
     "output_type": "execute_result"
    }
   ],
   "source": [
    "#checking NAN in our dataset\n",
    "sal_by_college.isnull().any()"
   ]
  },
  {
   "cell_type": "code",
   "execution_count": 6,
   "metadata": {},
   "outputs": [
    {
     "name": "stdout",
     "output_type": "stream",
     "text": [
      "Percentage of Null midcareer_10thpersal: 0.1412639405204461\n",
      "Number of midcareer_10thpersal: 141\n"
     ]
    }
   ],
   "source": [
    "print('Percentage of Null midcareer_10thpersal:', len(sal_by_college[sal_by_college.midcareer_10thpersal.isna()])/ len(sal_by_college))\n",
    "print('Number of midcareer_10thpersal:', sal_by_college.midcareer_10thpersal.nunique())"
   ]
  },
  {
   "cell_type": "code",
   "execution_count": 7,
   "metadata": {},
   "outputs": [
    {
     "name": "stdout",
     "output_type": "stream",
     "text": [
      "Percentage of Null midcareer_75thpersal: 0.1412639405204461\n",
      "Number of midcareer_75thpersal: 98\n"
     ]
    }
   ],
   "source": [
    "print('Percentage of Null midcareer_75thpersal:', len(sal_by_college[sal_by_college.midcareer_90thpersal.isna()])/ len(sal_by_college))\n",
    "print('Number of midcareer_75thpersal:', sal_by_college.midcareer_90thpersal.nunique())"
   ]
  },
  {
   "cell_type": "code",
   "execution_count": 8,
   "metadata": {},
   "outputs": [
    {
     "data": {
      "text/html": [
       "<div>\n",
       "<style scoped>\n",
       "    .dataframe tbody tr th:only-of-type {\n",
       "        vertical-align: middle;\n",
       "    }\n",
       "\n",
       "    .dataframe tbody tr th {\n",
       "        vertical-align: top;\n",
       "    }\n",
       "\n",
       "    .dataframe thead th {\n",
       "        text-align: right;\n",
       "    }\n",
       "</style>\n",
       "<table border=\"1\" class=\"dataframe\">\n",
       "  <thead>\n",
       "    <tr style=\"text-align: right;\">\n",
       "      <th></th>\n",
       "      <th>school_name</th>\n",
       "      <th>school_type</th>\n",
       "      <th>startmed_Sal</th>\n",
       "      <th>midcareer_med_sal</th>\n",
       "      <th>midcareer_10thpersal</th>\n",
       "      <th>midcareer_25thpercsal</th>\n",
       "      <th>midcareer_75thpercsal</th>\n",
       "      <th>midcareer_90thpersal</th>\n",
       "    </tr>\n",
       "  </thead>\n",
       "  <tbody>\n",
       "    <tr>\n",
       "      <td>count</td>\n",
       "      <td>269</td>\n",
       "      <td>269</td>\n",
       "      <td>269</td>\n",
       "      <td>269</td>\n",
       "      <td>231</td>\n",
       "      <td>269</td>\n",
       "      <td>269</td>\n",
       "      <td>231</td>\n",
       "    </tr>\n",
       "    <tr>\n",
       "      <td>unique</td>\n",
       "      <td>249</td>\n",
       "      <td>5</td>\n",
       "      <td>145</td>\n",
       "      <td>168</td>\n",
       "      <td>141</td>\n",
       "      <td>178</td>\n",
       "      <td>110</td>\n",
       "      <td>98</td>\n",
       "    </tr>\n",
       "    <tr>\n",
       "      <td>top</td>\n",
       "      <td>University of Illinois at Urbana-Champaign (UIUC)</td>\n",
       "      <td>State</td>\n",
       "      <td>$42,600.00</td>\n",
       "      <td>$72,100.00</td>\n",
       "      <td>$40,100.00</td>\n",
       "      <td>$54,100.00</td>\n",
       "      <td>$106,000.00</td>\n",
       "      <td>$150,000.00</td>\n",
       "    </tr>\n",
       "    <tr>\n",
       "      <td>freq</td>\n",
       "      <td>2</td>\n",
       "      <td>175</td>\n",
       "      <td>7</td>\n",
       "      <td>5</td>\n",
       "      <td>6</td>\n",
       "      <td>6</td>\n",
       "      <td>11</td>\n",
       "      <td>8</td>\n",
       "    </tr>\n",
       "  </tbody>\n",
       "</table>\n",
       "</div>"
      ],
      "text/plain": [
       "                                              school_name school_type  \\\n",
       "count                                                 269         269   \n",
       "unique                                                249           5   \n",
       "top     University of Illinois at Urbana-Champaign (UIUC)       State   \n",
       "freq                                                    2         175   \n",
       "\n",
       "       startmed_Sal midcareer_med_sal midcareer_10thpersal  \\\n",
       "count           269               269                  231   \n",
       "unique          145               168                  141   \n",
       "top      $42,600.00        $72,100.00           $40,100.00   \n",
       "freq              7                 5                    6   \n",
       "\n",
       "       midcareer_25thpercsal midcareer_75thpercsal midcareer_90thpersal  \n",
       "count                    269                   269                  231  \n",
       "unique                   178                   110                   98  \n",
       "top               $54,100.00           $106,000.00          $150,000.00  \n",
       "freq                       6                    11                    8  "
      ]
     },
     "execution_count": 8,
     "metadata": {},
     "output_type": "execute_result"
    }
   ],
   "source": [
    "sal_by_college.describe()"
   ]
  },
  {
   "cell_type": "code",
   "execution_count": 9,
   "metadata": {},
   "outputs": [],
   "source": [
    "#creating new dataframe from original one\n",
    "df=sal_by_college.copy()"
   ]
  },
  {
   "cell_type": "code",
   "execution_count": 10,
   "metadata": {},
   "outputs": [
    {
     "data": {
      "text/html": [
       "<div>\n",
       "<style scoped>\n",
       "    .dataframe tbody tr th:only-of-type {\n",
       "        vertical-align: middle;\n",
       "    }\n",
       "\n",
       "    .dataframe tbody tr th {\n",
       "        vertical-align: top;\n",
       "    }\n",
       "\n",
       "    .dataframe thead th {\n",
       "        text-align: right;\n",
       "    }\n",
       "</style>\n",
       "<table border=\"1\" class=\"dataframe\">\n",
       "  <thead>\n",
       "    <tr style=\"text-align: right;\">\n",
       "      <th></th>\n",
       "      <th>school_name</th>\n",
       "      <th>school_type</th>\n",
       "      <th>startmed_Sal</th>\n",
       "      <th>midcareer_med_sal</th>\n",
       "      <th>midcareer_10thpersal</th>\n",
       "      <th>midcareer_25thpercsal</th>\n",
       "      <th>midcareer_75thpercsal</th>\n",
       "      <th>midcareer_90thpersal</th>\n",
       "    </tr>\n",
       "  </thead>\n",
       "  <tbody>\n",
       "    <tr>\n",
       "      <td>0</td>\n",
       "      <td>Massachusetts Institute of Technology (MIT)</td>\n",
       "      <td>Engineering</td>\n",
       "      <td>$72,200.00</td>\n",
       "      <td>$126,000.00</td>\n",
       "      <td>$76,800.00</td>\n",
       "      <td>$99,200.00</td>\n",
       "      <td>$168,000.00</td>\n",
       "      <td>$220,000.00</td>\n",
       "    </tr>\n",
       "    <tr>\n",
       "      <td>1</td>\n",
       "      <td>Polytechnic University of New York, Brooklyn</td>\n",
       "      <td>Engineering</td>\n",
       "      <td>$62,400.00</td>\n",
       "      <td>$114,000.00</td>\n",
       "      <td>$66,800.00</td>\n",
       "      <td>$94,300.00</td>\n",
       "      <td>$143,000.00</td>\n",
       "      <td>$190,000.00</td>\n",
       "    </tr>\n",
       "    <tr>\n",
       "      <td>2</td>\n",
       "      <td>Worcester Polytechnic Institute (WPI)</td>\n",
       "      <td>Engineering</td>\n",
       "      <td>$61,000.00</td>\n",
       "      <td>$114,000.00</td>\n",
       "      <td>$80,000.00</td>\n",
       "      <td>$91,200.00</td>\n",
       "      <td>$137,000.00</td>\n",
       "      <td>$180,000.00</td>\n",
       "    </tr>\n",
       "    <tr>\n",
       "      <td>3</td>\n",
       "      <td>Carnegie Mellon University (CMU)</td>\n",
       "      <td>Engineering</td>\n",
       "      <td>$61,800.00</td>\n",
       "      <td>$111,000.00</td>\n",
       "      <td>$63,300.00</td>\n",
       "      <td>$80,100.00</td>\n",
       "      <td>$150,000.00</td>\n",
       "      <td>$209,000.00</td>\n",
       "    </tr>\n",
       "    <tr>\n",
       "      <td>4</td>\n",
       "      <td>Rensselaer Polytechnic Institute (RPI)</td>\n",
       "      <td>Engineering</td>\n",
       "      <td>$61,100.00</td>\n",
       "      <td>$110,000.00</td>\n",
       "      <td>$71,600.00</td>\n",
       "      <td>$85,500.00</td>\n",
       "      <td>$140,000.00</td>\n",
       "      <td>$182,000.00</td>\n",
       "    </tr>\n",
       "  </tbody>\n",
       "</table>\n",
       "</div>"
      ],
      "text/plain": [
       "                                    school_name  school_type startmed_Sal  \\\n",
       "0   Massachusetts Institute of Technology (MIT)  Engineering   $72,200.00   \n",
       "1  Polytechnic University of New York, Brooklyn  Engineering   $62,400.00   \n",
       "2         Worcester Polytechnic Institute (WPI)  Engineering   $61,000.00   \n",
       "3              Carnegie Mellon University (CMU)  Engineering   $61,800.00   \n",
       "4        Rensselaer Polytechnic Institute (RPI)  Engineering   $61,100.00   \n",
       "\n",
       "  midcareer_med_sal midcareer_10thpersal midcareer_25thpercsal  \\\n",
       "0       $126,000.00           $76,800.00            $99,200.00   \n",
       "1       $114,000.00           $66,800.00            $94,300.00   \n",
       "2       $114,000.00           $80,000.00            $91,200.00   \n",
       "3       $111,000.00           $63,300.00            $80,100.00   \n",
       "4       $110,000.00           $71,600.00            $85,500.00   \n",
       "\n",
       "  midcareer_75thpercsal midcareer_90thpersal  \n",
       "0           $168,000.00          $220,000.00  \n",
       "1           $143,000.00          $190,000.00  \n",
       "2           $137,000.00          $180,000.00  \n",
       "3           $150,000.00          $209,000.00  \n",
       "4           $140,000.00          $182,000.00  "
      ]
     },
     "execution_count": 10,
     "metadata": {},
     "output_type": "execute_result"
    }
   ],
   "source": [
    "#dropping all null values\n",
    "df.dropna(inplace=True)\n",
    "df.reset_index(inplace=True, drop=True)\n",
    "df.head()"
   ]
  },
  {
   "cell_type": "code",
   "execution_count": 11,
   "metadata": {},
   "outputs": [],
   "source": [
    "#converting $ dollar sign(converting string to numerical)\n",
    "for column in range(2,8):\n",
    "    df.iloc[:, column] = [float(re.sub('[$,.]', '', i)[:-2]) for i in df.iloc[:, column]]"
   ]
  },
  {
   "cell_type": "code",
   "execution_count": 12,
   "metadata": {},
   "outputs": [
    {
     "data": {
      "text/html": [
       "<div>\n",
       "<style scoped>\n",
       "    .dataframe tbody tr th:only-of-type {\n",
       "        vertical-align: middle;\n",
       "    }\n",
       "\n",
       "    .dataframe tbody tr th {\n",
       "        vertical-align: top;\n",
       "    }\n",
       "\n",
       "    .dataframe thead th {\n",
       "        text-align: right;\n",
       "    }\n",
       "</style>\n",
       "<table border=\"1\" class=\"dataframe\">\n",
       "  <thead>\n",
       "    <tr style=\"text-align: right;\">\n",
       "      <th></th>\n",
       "      <th>startmed_Sal</th>\n",
       "      <th>midcareer_med_sal</th>\n",
       "      <th>midcareer_10thpersal</th>\n",
       "      <th>midcareer_25thpercsal</th>\n",
       "      <th>midcareer_75thpercsal</th>\n",
       "      <th>midcareer_90thpersal</th>\n",
       "    </tr>\n",
       "  </thead>\n",
       "  <tbody>\n",
       "    <tr>\n",
       "      <td>count</td>\n",
       "      <td>231.000000</td>\n",
       "      <td>231.000000</td>\n",
       "      <td>231.000000</td>\n",
       "      <td>231.000000</td>\n",
       "      <td>231.000000</td>\n",
       "      <td>231.000000</td>\n",
       "    </tr>\n",
       "    <tr>\n",
       "      <td>mean</td>\n",
       "      <td>45825.108225</td>\n",
       "      <td>82666.233766</td>\n",
       "      <td>44250.649351</td>\n",
       "      <td>59796.536797</td>\n",
       "      <td>113324.675325</td>\n",
       "      <td>157705.627706</td>\n",
       "    </tr>\n",
       "    <tr>\n",
       "      <td>std</td>\n",
       "      <td>6120.434189</td>\n",
       "      <td>14016.294341</td>\n",
       "      <td>8719.612427</td>\n",
       "      <td>10925.788645</td>\n",
       "      <td>21586.264690</td>\n",
       "      <td>34823.348157</td>\n",
       "    </tr>\n",
       "    <tr>\n",
       "      <td>min</td>\n",
       "      <td>34800.000000</td>\n",
       "      <td>43900.000000</td>\n",
       "      <td>22600.000000</td>\n",
       "      <td>31800.000000</td>\n",
       "      <td>60900.000000</td>\n",
       "      <td>87600.000000</td>\n",
       "    </tr>\n",
       "    <tr>\n",
       "      <td>25%</td>\n",
       "      <td>41950.000000</td>\n",
       "      <td>73050.000000</td>\n",
       "      <td>39000.000000</td>\n",
       "      <td>53000.000000</td>\n",
       "      <td>99550.000000</td>\n",
       "      <td>136000.000000</td>\n",
       "    </tr>\n",
       "    <tr>\n",
       "      <td>50%</td>\n",
       "      <td>44700.000000</td>\n",
       "      <td>81300.000000</td>\n",
       "      <td>43100.000000</td>\n",
       "      <td>57800.000000</td>\n",
       "      <td>111000.000000</td>\n",
       "      <td>153000.000000</td>\n",
       "    </tr>\n",
       "    <tr>\n",
       "      <td>75%</td>\n",
       "      <td>47650.000000</td>\n",
       "      <td>87850.000000</td>\n",
       "      <td>47400.000000</td>\n",
       "      <td>63100.000000</td>\n",
       "      <td>120500.000000</td>\n",
       "      <td>170500.000000</td>\n",
       "    </tr>\n",
       "    <tr>\n",
       "      <td>max</td>\n",
       "      <td>72200.000000</td>\n",
       "      <td>134000.000000</td>\n",
       "      <td>80000.000000</td>\n",
       "      <td>100000.000000</td>\n",
       "      <td>234000.000000</td>\n",
       "      <td>326000.000000</td>\n",
       "    </tr>\n",
       "  </tbody>\n",
       "</table>\n",
       "</div>"
      ],
      "text/plain": [
       "       startmed_Sal  midcareer_med_sal  midcareer_10thpersal  \\\n",
       "count    231.000000         231.000000            231.000000   \n",
       "mean   45825.108225       82666.233766          44250.649351   \n",
       "std     6120.434189       14016.294341           8719.612427   \n",
       "min    34800.000000       43900.000000          22600.000000   \n",
       "25%    41950.000000       73050.000000          39000.000000   \n",
       "50%    44700.000000       81300.000000          43100.000000   \n",
       "75%    47650.000000       87850.000000          47400.000000   \n",
       "max    72200.000000      134000.000000          80000.000000   \n",
       "\n",
       "       midcareer_25thpercsal  midcareer_75thpercsal  midcareer_90thpersal  \n",
       "count             231.000000             231.000000            231.000000  \n",
       "mean            59796.536797          113324.675325         157705.627706  \n",
       "std             10925.788645           21586.264690          34823.348157  \n",
       "min             31800.000000           60900.000000          87600.000000  \n",
       "25%             53000.000000           99550.000000         136000.000000  \n",
       "50%             57800.000000          111000.000000         153000.000000  \n",
       "75%             63100.000000          120500.000000         170500.000000  \n",
       "max            100000.000000          234000.000000         326000.000000  "
      ]
     },
     "execution_count": 12,
     "metadata": {},
     "output_type": "execute_result"
    }
   ],
   "source": [
    "df.describe()"
   ]
  },
  {
   "cell_type": "code",
   "execution_count": null,
   "metadata": {},
   "outputs": [],
   "source": [
    "#Check for extraneous values\n",
    "# for col in df.columns:\n",
    "#     print(col, '\\n', df[col].value_counts(normalize=True).head(), '\\n\\n')"
   ]
  },
  {
   "cell_type": "code",
   "execution_count": 13,
   "metadata": {},
   "outputs": [
    {
     "data": {
      "text/plain": [
       "Text(0.5, 0.98, '')"
      ]
     },
     "execution_count": 13,
     "metadata": {},
     "output_type": "execute_result"
    },
    {
     "data": {
      "image/png": "[encoded data removed]",
      "text/plain": [
       "<Figure size 432x288 with 1 Axes>"
      ]
     },
     "metadata": {
      "needs_background": "light"
     },
     "output_type": "display_data"
    }
   ],
   "source": [
    "df.boxplot(column='startmed_Sal',by='school_type')\n",
    "plt.suptitle('')"
   ]
  },
  {
   "cell_type": "code",
   "execution_count": 14,
   "metadata": {},
   "outputs": [],
   "source": [
    "#adding a new column variable as sal_increase\n",
    "df['salary_increase'] = df['midcareer_med_sal'] - df['startmed_Sal']"
   ]
  },
  {
   "cell_type": "markdown",
   "metadata": {},
   "source": [
    "### Checking ANOVA Assumptions\n",
    "##### normality\n"
   ]
  },
  {
   "cell_type": "code",
   "execution_count": 15,
   "metadata": {},
   "outputs": [
    {
     "data": {
      "text/plain": [
       "array([[<matplotlib.axes._subplots.AxesSubplot object at 0x1a17e62e90>,\n",
       "        <matplotlib.axes._subplots.AxesSubplot object at 0x1a18827610>,\n",
       "        <matplotlib.axes._subplots.AxesSubplot object at 0x1a1885be10>],\n",
       "       [<matplotlib.axes._subplots.AxesSubplot object at 0x1a1889b650>,\n",
       "        <matplotlib.axes._subplots.AxesSubplot object at 0x1a188d0e50>,\n",
       "        <matplotlib.axes._subplots.AxesSubplot object at 0x1a18911690>],\n",
       "       [<matplotlib.axes._subplots.AxesSubplot object at 0x1a18944e90>,\n",
       "        <matplotlib.axes._subplots.AxesSubplot object at 0x1a189856d0>,\n",
       "        <matplotlib.axes._subplots.AxesSubplot object at 0x1a1898f250>]],\n",
       "      dtype=object)"
      ]
     },
     "execution_count": 15,
     "metadata": {},
     "output_type": "execute_result"
    },
    {
     "data": {
      "image/png": "[encoded data removed]",
      "text/plain": [
       "<Figure size 432x288 with 9 Axes>"
      ]
     },
     "metadata": {
      "needs_background": "light"
     },
     "output_type": "display_data"
    }
   ],
   "source": [
    "df.hist(bins=12)"
   ]
  },
  {
   "cell_type": "markdown",
   "metadata": {},
   "source": [
    "#### qq plots"
   ]
  },
  {
   "cell_type": "code",
   "execution_count": 16,
   "metadata": {},
   "outputs": [
    {
     "data": {
      "image/png": "[encoded data removed]",
      "text/plain": [
       "<Figure size 432x288 with 1 Axes>"
      ]
     },
     "metadata": {
      "needs_background": "light"
     },
     "output_type": "display_data"
    }
   ],
   "source": [
    "import statsmodels.api as sm\n",
    "fig = sm.qqplot(df['startmed_Sal'])"
   ]
  },
  {
   "cell_type": "code",
   "execution_count": 17,
   "metadata": {},
   "outputs": [
    {
     "data": {
      "image/png": "[encoded data removed]",
      "text/plain": [
       "<Figure size 432x288 with 1 Axes>"
      ]
     },
     "metadata": {
      "needs_background": "light"
     },
     "output_type": "display_data"
    }
   ],
   "source": [
    "fig1 = sm.qqplot(df['salary_increase'])"
   ]
  },
  {
   "cell_type": "code",
   "execution_count": 18,
   "metadata": {},
   "outputs": [
    {
     "data": {
      "text/plain": [
       "Text(0.5, 0.98, '')"
      ]
     },
     "execution_count": 18,
     "metadata": {},
     "output_type": "execute_result"
    },
    {
     "data": {
      "image/png": "[encoded data removed]",
      "text/plain": [
       "<Figure size 432x288 with 1 Axes>"
      ]
     },
     "metadata": {
      "needs_background": "light"
     },
     "output_type": "display_data"
    }
   ],
   "source": [
    "df.boxplot(column='salary_increase',by='school_type')\n",
    "plt.suptitle('')"
   ]
  },
  {
   "cell_type": "markdown",
   "metadata": {},
   "source": [
    "#### ANOVA with scipy.stats"
   ]
  },
  {
   "cell_type": "code",
   "execution_count": 19,
   "metadata": {},
   "outputs": [
    {
     "data": {
      "text/plain": [
       "F_onewayResult(statistic=54.933900601403494, pvalue=2.6432887155841926e-32)"
      ]
     },
     "execution_count": 19,
     "metadata": {},
     "output_type": "execute_result"
    }
   ],
   "source": [
    "#Analysis of Variance (ANOVA)ONE WAY (for starting salary to college type)\n",
    "stats.f_oneway(df['startmed_Sal'][df['school_type'] == 'Ivy League'], \n",
    "             df['startmed_Sal'][df['school_type'] == 'State'],\n",
    "             df['startmed_Sal'][df['school_type'] == 'Liberal Arts'],\n",
    "              df['startmed_Sal'][df['school_type'] == 'Engineering'],\n",
    "              df['startmed_Sal'][df['school_type'] == 'Party'])"
   ]
  },
  {
   "cell_type": "markdown",
   "metadata": {},
   "source": [
    "### The F-statistic= 54.933900601403494 and the p-value= 2.6432887155841926e-32 which is indicating that there is an overall significant effect of type of school on starting salary."
   ]
  },
  {
   "cell_type": "code",
   "execution_count": 1,
   "metadata": {},
   "outputs": [
    {
     "ename": "NameError",
     "evalue": "name 'df' is not defined",
     "output_type": "error",
     "traceback": [
      "\u001b[0;31m---------------------------------------------------------------------------\u001b[0m",
      "\u001b[0;31mNameError\u001b[0m                                 Traceback (most recent call last)",
      "\u001b[0;32m<ipython-input-1-b62093a1e4ad>\u001b[0m in \u001b[0;36m<module>\u001b[0;34m\u001b[0m\n\u001b[1;32m      4\u001b[0m \u001b[0;34m\u001b[0m\u001b[0m\n\u001b[1;32m      5\u001b[0m \u001b[0;34m\u001b[0m\u001b[0m\n\u001b[0;32m----> 6\u001b[0;31m \u001b[0mresults\u001b[0m \u001b[0;34m=\u001b[0m \u001b[0mols\u001b[0m\u001b[0;34m(\u001b[0m\u001b[0;34m'startmed_Sal ~ C(school_type)'\u001b[0m\u001b[0;34m,\u001b[0m \u001b[0mdata\u001b[0m\u001b[0;34m=\u001b[0m\u001b[0mdf\u001b[0m\u001b[0;34m)\u001b[0m\u001b[0;34m.\u001b[0m\u001b[0mfit\u001b[0m\u001b[0;34m(\u001b[0m\u001b[0;34m)\u001b[0m\u001b[0;34m\u001b[0m\u001b[0;34m\u001b[0m\u001b[0m\n\u001b[0m\u001b[1;32m      7\u001b[0m \u001b[0mresults\u001b[0m\u001b[0;34m.\u001b[0m\u001b[0msummary\u001b[0m\u001b[0;34m(\u001b[0m\u001b[0;34m)\u001b[0m\u001b[0;34m\u001b[0m\u001b[0;34m\u001b[0m\u001b[0m\n",
      "\u001b[0;31mNameError\u001b[0m: name 'df' is not defined"
     ]
    }
   ],
   "source": [
    "#Your code here\n",
    "import statsmodels.api as sm\n",
    "from statsmodels.formula.api import ols\n",
    "\n",
    "\n",
    "results = ols('startmed_Sal ~ C(school_type)', data=df).fit()\n",
    "results.summary()"
   ]
  },
  {
   "cell_type": "code",
   "execution_count": 23,
   "metadata": {},
   "outputs": [
    {
     "data": {
      "text/html": [
       "<div>\n",
       "<style scoped>\n",
       "    .dataframe tbody tr th:only-of-type {\n",
       "        vertical-align: middle;\n",
       "    }\n",
       "\n",
       "    .dataframe tbody tr th {\n",
       "        vertical-align: top;\n",
       "    }\n",
       "\n",
       "    .dataframe thead th {\n",
       "        text-align: right;\n",
       "    }\n",
       "</style>\n",
       "<table border=\"1\" class=\"dataframe\">\n",
       "  <thead>\n",
       "    <tr style=\"text-align: right;\">\n",
       "      <th></th>\n",
       "      <th>sum_sq</th>\n",
       "      <th>df</th>\n",
       "      <th>F</th>\n",
       "      <th>PR(&gt;F)</th>\n",
       "    </tr>\n",
       "  </thead>\n",
       "  <tbody>\n",
       "    <tr>\n",
       "      <td>C(school_type)</td>\n",
       "      <td>4.247324e+09</td>\n",
       "      <td>4.0</td>\n",
       "      <td>54.933901</td>\n",
       "      <td>2.643289e-32</td>\n",
       "    </tr>\n",
       "    <tr>\n",
       "      <td>Residual</td>\n",
       "      <td>4.368410e+09</td>\n",
       "      <td>226.0</td>\n",
       "      <td>NaN</td>\n",
       "      <td>NaN</td>\n",
       "    </tr>\n",
       "  </tbody>\n",
       "</table>\n",
       "</div>"
      ],
      "text/plain": [
       "                      sum_sq     df          F        PR(>F)\n",
       "C(school_type)  4.247324e+09    4.0  54.933901  2.643289e-32\n",
       "Residual        4.368410e+09  226.0        NaN           NaN"
      ]
     },
     "execution_count": 23,
     "metadata": {},
     "output_type": "execute_result"
    }
   ],
   "source": [
    "aov_table = sm.stats.anova_lm(results, typ=2)\n",
    "aov_table"
   ]
  },
  {
   "cell_type": "code",
   "execution_count": 24,
   "metadata": {},
   "outputs": [
    {
     "data": {
      "text/html": [
       "<div>\n",
       "<style scoped>\n",
       "    .dataframe tbody tr th:only-of-type {\n",
       "        vertical-align: middle;\n",
       "    }\n",
       "\n",
       "    .dataframe tbody tr th {\n",
       "        vertical-align: top;\n",
       "    }\n",
       "\n",
       "    .dataframe thead th {\n",
       "        text-align: right;\n",
       "    }\n",
       "</style>\n",
       "<table border=\"1\" class=\"dataframe\">\n",
       "  <thead>\n",
       "    <tr style=\"text-align: right;\">\n",
       "      <th></th>\n",
       "      <th>sum_sq</th>\n",
       "      <th>df</th>\n",
       "      <th>mean_sq</th>\n",
       "      <th>F</th>\n",
       "      <th>PR(&gt;F)</th>\n",
       "      <th>eta_sq</th>\n",
       "      <th>omega_sq</th>\n",
       "    </tr>\n",
       "  </thead>\n",
       "  <tbody>\n",
       "    <tr>\n",
       "      <td>C(school_type)</td>\n",
       "      <td>4.247324e+09</td>\n",
       "      <td>4.0</td>\n",
       "      <td>1.061831e+09</td>\n",
       "      <td>54.933901</td>\n",
       "      <td>2.643289e-32</td>\n",
       "      <td>0.492973</td>\n",
       "      <td>0.482916</td>\n",
       "    </tr>\n",
       "    <tr>\n",
       "      <td>Residual</td>\n",
       "      <td>4.368410e+09</td>\n",
       "      <td>226.0</td>\n",
       "      <td>1.932925e+07</td>\n",
       "      <td>NaN</td>\n",
       "      <td>NaN</td>\n",
       "      <td>NaN</td>\n",
       "      <td>NaN</td>\n",
       "    </tr>\n",
       "  </tbody>\n",
       "</table>\n",
       "</div>"
      ],
      "text/plain": [
       "                      sum_sq     df       mean_sq          F        PR(>F)  \\\n",
       "C(school_type)  4.247324e+09    4.0  1.061831e+09  54.933901  2.643289e-32   \n",
       "Residual        4.368410e+09  226.0  1.932925e+07        NaN           NaN   \n",
       "\n",
       "                  eta_sq  omega_sq  \n",
       "C(school_type)  0.492973  0.482916  \n",
       "Residual             NaN       NaN  "
      ]
     },
     "execution_count": 24,
     "metadata": {},
     "output_type": "execute_result"
    }
   ],
   "source": [
    "def anova_table(aov):\n",
    "    aov['mean_sq'] = aov[:]['sum_sq']/aov[:]['df']\n",
    "    \n",
    "    aov['eta_sq'] = aov[:-1]['sum_sq']/sum(aov['sum_sq'])\n",
    "    \n",
    "    aov['omega_sq'] = (aov[:-1]['sum_sq']-(aov[:-1]['df']*aov['mean_sq'][-1]))/(sum(aov['sum_sq'])+aov['mean_sq'][-1])\n",
    "    \n",
    "    cols = ['sum_sq', 'df', 'mean_sq', 'F', 'PR(>F)', 'eta_sq', 'omega_sq']\n",
    "    aov = aov[cols]\n",
    "    return aov\n",
    "\n",
    "anova_table(aov_table)"
   ]
  },
  {
   "cell_type": "code",
   "execution_count": 25,
   "metadata": {},
   "outputs": [
    {
     "data": {
      "text/html": [
       "<table class=\"simpletable\">\n",
       "<caption>Multiple Comparison of Means - Tukey HSD, FWER=0.05</caption>\n",
       "<tr>\n",
       "     <th>group1</th>       <th>group2</th>     <th>meandiff</th>    <th>p-adj</th>    <th>lower</th>       <th>upper</th>    <th>reject</th>\n",
       "</tr>\n",
       "<tr>\n",
       "   <td>Engineering</td>  <td>Ivy League</td>    <td>3035.0</td>    <td>0.5117</td> <td>-2258.1066</td>   <td>8328.1066</td>   <td>False</td>\n",
       "</tr>\n",
       "<tr>\n",
       "   <td>Engineering</td> <td>Liberal Arts</td> <td>-11268.5714</td>  <td>0.001</td> <td>-15761.4708</td>  <td>-6775.672</td>   <td>True</td> \n",
       "</tr>\n",
       "<tr>\n",
       "   <td>Engineering</td>     <td>Party</td>    <td>-11561.0526</td>  <td>0.001</td> <td>-15736.9938</td> <td>-7385.1115</td>   <td>True</td> \n",
       "</tr>\n",
       "<tr>\n",
       "   <td>Engineering</td>     <td>State</td>    <td>-13313.7143</td>  <td>0.001</td> <td>-16566.4553</td> <td>-10060.9732</td>  <td>True</td> \n",
       "</tr>\n",
       "<tr>\n",
       "   <td>Ivy League</td>  <td>Liberal Arts</td> <td>-14303.5714</td>  <td>0.001</td> <td>-19662.0275</td> <td>-8945.1154</td>   <td>True</td> \n",
       "</tr>\n",
       "<tr>\n",
       "   <td>Ivy League</td>      <td>Party</td>    <td>-14596.0526</td>  <td>0.001</td> <td>-19691.6773</td>  <td>-9500.428</td>   <td>True</td> \n",
       "</tr>\n",
       "<tr>\n",
       "   <td>Ivy League</td>      <td>State</td>    <td>-16348.7143</td>  <td>0.001</td> <td>-20719.8961</td> <td>-11977.5325</td>  <td>True</td> \n",
       "</tr>\n",
       "<tr>\n",
       "  <td>Liberal Arts</td>     <td>Party</td>     <td>-292.4812</td>    <td>0.9</td>  <td>-4550.9502</td>   <td>3965.9878</td>   <td>False</td>\n",
       "</tr>\n",
       "<tr>\n",
       "  <td>Liberal Arts</td>     <td>State</td>    <td>-2045.1429</td>  <td>0.4531</td> <td>-5403.1777</td>   <td>1312.892</td>    <td>False</td>\n",
       "</tr>\n",
       "<tr>\n",
       "      <td>Party</td>        <td>State</td>    <td>-1752.6617</td>   <td>0.468</td> <td>-4673.0619</td>   <td>1167.7386</td>   <td>False</td>\n",
       "</tr>\n",
       "</table>"
      ],
      "text/plain": [
       "<class 'statsmodels.iolib.table.SimpleTable'>"
      ]
     },
     "execution_count": 25,
     "metadata": {},
     "output_type": "execute_result"
    },
    {
     "data": {
      "image/png": "[encoded data removed]",
      "text/plain": [
       "<Figure size 720x432 with 1 Axes>"
      ]
     },
     "metadata": {
      "needs_background": "light"
     },
     "output_type": "display_data"
    }
   ],
   "source": [
    "from statsmodels.stats.multicomp import pairwise_tukeyhsd\n",
    "\n",
    "tukey = pairwise_tukeyhsd(endog=df['startmed_Sal'],     # Data\n",
    "                          groups=df['school_type'],   # Groups\n",
    "                          alpha=0.05)          # Significance level\n",
    "\n",
    "tukey.plot_simultaneous()    # Plot group confidence intervals\n",
    "plt.vlines(x=49.57,ymin=-0.5,ymax=4.5, color=\"red\")\n",
    "\n",
    "tukey.summary() "
   ]
  },
  {
   "cell_type": "code",
   "execution_count": 26,
   "metadata": {},
   "outputs": [
    {
     "data": {
      "text/plain": [
       "F_onewayResult(statistic=33.19169161242803, pvalue=8.955569733314834e-22)"
      ]
     },
     "execution_count": 26,
     "metadata": {},
     "output_type": "execute_result"
    }
   ],
   "source": [
    "#Analysis of Variance (ANOVA)(for \"increase in salary and schooltype\")\n",
    "stats.f_oneway(df['salary_increase'][df['school_type'] == 'Ivy League'], \n",
    "             df['salary_increase'][df['school_type'] == 'State'],\n",
    "             df['salary_increase'][df['school_type'] == 'Liberal Arts'],\n",
    "              df['salary_increase'][df['school_type'] == 'Engineering'],\n",
    "              df['salary_increase'][df['school_type'] == 'Party'])"
   ]
  },
  {
   "cell_type": "code",
   "execution_count": 27,
   "metadata": {},
   "outputs": [
    {
     "data": {
      "text/html": [
       "<table class=\"simpletable\">\n",
       "<caption>Multiple Comparison of Means - Tukey HSD, FWER=0.05</caption>\n",
       "<tr>\n",
       "     <th>group1</th>       <th>group2</th>     <th>meandiff</th>    <th>p-adj</th>    <th>lower</th>       <th>upper</th>    <th>reject</th>\n",
       "</tr>\n",
       "<tr>\n",
       "   <td>Engineering</td>  <td>Ivy League</td>  <td>15716.6667</td>   <td>0.001</td>  <td>7217.7362</td>  <td>24215.5972</td>   <td>True</td> \n",
       "</tr>\n",
       "<tr>\n",
       "   <td>Engineering</td> <td>Liberal Arts</td>  <td>-469.0476</td>    <td>0.9</td>  <td>-7683.1173</td>   <td>6745.0221</td>   <td>False</td>\n",
       "</tr>\n",
       "<tr>\n",
       "   <td>Engineering</td>     <td>Party</td>    <td>-5070.1754</td>  <td>0.2327</td> <td>-11775.3179</td>  <td>1634.967</td>    <td>False</td>\n",
       "</tr>\n",
       "<tr>\n",
       "   <td>Engineering</td>     <td>State</td>    <td>-9492.1905</td>   <td>0.001</td> <td>-14714.9873</td> <td>-4269.3937</td>   <td>True</td> \n",
       "</tr>\n",
       "<tr>\n",
       "   <td>Ivy League</td>  <td>Liberal Arts</td> <td>-16185.7143</td>  <td>0.001</td> <td>-24789.5738</td> <td>-7581.8547</td>   <td>True</td> \n",
       "</tr>\n",
       "<tr>\n",
       "   <td>Ivy League</td>      <td>Party</td>    <td>-20786.8421</td>  <td>0.001</td> <td>-28968.6838</td> <td>-12605.0004</td>  <td>True</td> \n",
       "</tr>\n",
       "<tr>\n",
       "   <td>Ivy League</td>      <td>State</td>    <td>-25208.8571</td>  <td>0.001</td> <td>-32227.4897</td> <td>-18190.2245</td>  <td>True</td> \n",
       "</tr>\n",
       "<tr>\n",
       "  <td>Liberal Arts</td>     <td>Party</td>    <td>-4601.1278</td>  <td>0.3477</td> <td>-11438.782</td>   <td>2236.5264</td>   <td>False</td>\n",
       "</tr>\n",
       "<tr>\n",
       "  <td>Liberal Arts</td>     <td>State</td>    <td>-9023.1429</td>   <td>0.001</td> <td>-14415.0058</td> <td>-3631.2799</td>   <td>True</td> \n",
       "</tr>\n",
       "<tr>\n",
       "      <td>Party</td>        <td>State</td>     <td>-4422.015</td>  <td>0.0752</td> <td>-9111.1855</td>   <td>267.1554</td>    <td>False</td>\n",
       "</tr>\n",
       "</table>"
      ],
      "text/plain": [
       "<class 'statsmodels.iolib.table.SimpleTable'>"
      ]
     },
     "execution_count": 27,
     "metadata": {},
     "output_type": "execute_result"
    },
    {
     "data": {
      "image/png": "[encoded data removed]",
      "text/plain": [
       "<Figure size 720x432 with 1 Axes>"
      ]
     },
     "metadata": {
      "needs_background": "light"
     },
     "output_type": "display_data"
    }
   ],
   "source": [
    "from statsmodels.stats.multicomp import pairwise_tukeyhsd\n",
    "\n",
    "tukey = pairwise_tukeyhsd(endog=df['salary_increase'],     # Data\n",
    "                          groups=df['school_type'],   # Groups\n",
    "                          alpha=0.05)          # Significance level\n",
    "\n",
    "tukey.plot_simultaneous()    # Plot group confidence intervals\n",
    "plt.vlines(x=49.57,ymin=-0.5,ymax=4.5, color=\"red\")\n",
    "\n",
    "tukey.summary()  "
   ]
  },
  {
   "cell_type": "markdown",
   "metadata": {},
   "source": [
    "### After LOG transformation of start median salary"
   ]
  },
  {
   "cell_type": "code",
   "execution_count": 28,
   "metadata": {},
   "outputs": [],
   "source": [
    "df['log_startSal']=np.log(df['startmed_Sal'])\n",
    "df['log_salincrease']=np.log(df['salary_increase'])\n"
   ]
  },
  {
   "cell_type": "code",
   "execution_count": 34,
   "metadata": {},
   "outputs": [],
   "source": [
    "df.drop(columns=['midcareer_10thpersal','midcareer_25thpercsal','midcareer_75thpercsal','midcareer_90thpersal'],inplace=True)"
   ]
  },
  {
   "cell_type": "code",
   "execution_count": 35,
   "metadata": {},
   "outputs": [
    {
     "data": {
      "text/plain": [
       "array([[<matplotlib.axes._subplots.AxesSubplot object at 0x1c1b1d2e50>,\n",
       "        <matplotlib.axes._subplots.AxesSubplot object at 0x1c1b1a36d0>],\n",
       "       [<matplotlib.axes._subplots.AxesSubplot object at 0x1c1b22a690>,\n",
       "        <matplotlib.axes._subplots.AxesSubplot object at 0x1c1b2bee90>],\n",
       "       [<matplotlib.axes._subplots.AxesSubplot object at 0x1c1b3006d0>,\n",
       "        <matplotlib.axes._subplots.AxesSubplot object at 0x1c1b332ed0>]],\n",
       "      dtype=object)"
      ]
     },
     "execution_count": 35,
     "metadata": {},
     "output_type": "execute_result"
    },
    {
     "data": {
      "image/png": "[encoded data removed]",
      "text/plain": [
       "<Figure size 432x288 with 6 Axes>"
      ]
     },
     "metadata": {
      "needs_background": "light"
     },
     "output_type": "display_data"
    }
   ],
   "source": [
    "df.hist(bins=12)"
   ]
  },
  {
   "cell_type": "code",
   "execution_count": 29,
   "metadata": {},
   "outputs": [
    {
     "data": {
      "text/plain": [
       "F_onewayResult(statistic=45.79072461042765, pvalue=3.823835521299689e-28)"
      ]
     },
     "execution_count": 29,
     "metadata": {},
     "output_type": "execute_result"
    }
   ],
   "source": [
    "#Analysis of Variance (ANOVA)ONE WAY(for startmedian salary to school type)\n",
    "stats.f_oneway(df['log_startSal'][df['school_type'] == 'Ivy League'], \n",
    "             df['log_startSal'][df['school_type'] == 'State'],\n",
    "             df['log_startSal'][df['school_type'] == 'Liberal Arts'],\n",
    "              df['log_startSal'][df['school_type'] == 'Engineering'],\n",
    "              df['log_startSal'][df['school_type'] == 'Party'])"
   ]
  },
  {
   "cell_type": "markdown",
   "metadata": {},
   "source": [
    "#### Post-hoc Testing(TUKEY’S HSD POST-HOC COMPARISON) for starting salary to school type"
   ]
  },
  {
   "cell_type": "code",
   "execution_count": 37,
   "metadata": {},
   "outputs": [
    {
     "data": {
      "text/html": [
       "<table class=\"simpletable\">\n",
       "<caption>Multiple Comparison of Means - Tukey HSD, FWER=0.05</caption>\n",
       "<tr>\n",
       "     <th>group1</th>       <th>group2</th>    <th>meandiff</th>  <th>p-adj</th>  <th>lower</th>   <th>upper</th>  <th>reject</th>\n",
       "</tr>\n",
       "<tr>\n",
       "   <td>Engineering</td>  <td>Ivy League</td>   <td>0.0559</td>  <td>0.6394</td> <td>-0.0579</td> <td>0.1697</td>   <td>False</td>\n",
       "</tr>\n",
       "<tr>\n",
       "   <td>Engineering</td> <td>Liberal Arts</td>  <td>-0.218</td>   <td>0.001</td> <td>-0.3146</td> <td>-0.1214</td>  <td>True</td> \n",
       "</tr>\n",
       "<tr>\n",
       "   <td>Engineering</td>     <td>Party</td>     <td>-0.2222</td>  <td>0.001</td> <td>-0.3119</td> <td>-0.1324</td>  <td>True</td> \n",
       "</tr>\n",
       "<tr>\n",
       "   <td>Engineering</td>     <td>State</td>     <td>-0.2626</td>  <td>0.001</td> <td>-0.3325</td> <td>-0.1927</td>  <td>True</td> \n",
       "</tr>\n",
       "<tr>\n",
       "   <td>Ivy League</td>  <td>Liberal Arts</td>  <td>-0.2739</td>  <td>0.001</td> <td>-0.3891</td> <td>-0.1587</td>  <td>True</td> \n",
       "</tr>\n",
       "<tr>\n",
       "   <td>Ivy League</td>      <td>Party</td>     <td>-0.2781</td>  <td>0.001</td> <td>-0.3876</td> <td>-0.1685</td>  <td>True</td> \n",
       "</tr>\n",
       "<tr>\n",
       "   <td>Ivy League</td>      <td>State</td>     <td>-0.3185</td>  <td>0.001</td> <td>-0.4125</td> <td>-0.2245</td>  <td>True</td> \n",
       "</tr>\n",
       "<tr>\n",
       "  <td>Liberal Arts</td>     <td>Party</td>     <td>-0.0041</td>   <td>0.9</td>  <td>-0.0957</td> <td>0.0874</td>   <td>False</td>\n",
       "</tr>\n",
       "<tr>\n",
       "  <td>Liberal Arts</td>     <td>State</td>     <td>-0.0446</td> <td>0.4388</td> <td>-0.1168</td> <td>0.0276</td>   <td>False</td>\n",
       "</tr>\n",
       "<tr>\n",
       "      <td>Party</td>        <td>State</td>     <td>-0.0404</td> <td>0.3942</td> <td>-0.1032</td> <td>0.0223</td>   <td>False</td>\n",
       "</tr>\n",
       "</table>"
      ],
      "text/plain": [
       "<class 'statsmodels.iolib.table.SimpleTable'>"
      ]
     },
     "execution_count": 37,
     "metadata": {},
     "output_type": "execute_result"
    },
    {
     "data": {
      "image/png": "[encoded data removed]",
      "text/plain": [
       "<Figure size 720x432 with 1 Axes>"
      ]
     },
     "metadata": {
      "needs_background": "light"
     },
     "output_type": "display_data"
    }
   ],
   "source": [
    "from statsmodels.stats.multicomp import pairwise_tukeyhsd\n",
    "\n",
    "tukey = pairwise_tukeyhsd(endog=df['log_startSal'],     # Data\n",
    "                          groups=df['school_type'],   # Groups\n",
    "                          alpha=0.05)          # Significance level\n",
    "\n",
    "tukey.plot_simultaneous()    # Plot group confidence intervals\n",
    "plt.vlines(x=49.57,ymin=-0.5,ymax=4.5, color=\"red\")\n",
    "\n",
    "tukey.summary()  "
   ]
  },
  {
   "cell_type": "markdown",
   "metadata": {},
   "source": [
    "#### Post-hoc Testing(TUKEY’S HSD POST-HOC COMPARISON) for increase in salary to school type"
   ]
  },
  {
   "cell_type": "code",
   "execution_count": 39,
   "metadata": {},
   "outputs": [
    {
     "data": {
      "text/plain": [
       "F_onewayResult(statistic=19.025063141884385, pvalue=1.6845708160879386e-13)"
      ]
     },
     "execution_count": 39,
     "metadata": {},
     "output_type": "execute_result"
    }
   ],
   "source": [
    "#Analysis of Variance (ANOVA)ONE WAY(for increase in salary to school type)\n",
    "stats.f_oneway(df['log_salincrease'][df['school_type'] == 'Ivy League'], \n",
    "             df['log_salincrease'][df['school_type'] == 'State'],\n",
    "             df['log_salincrease'][df['school_type'] == 'Liberal Arts'],\n",
    "              df['log_salincrease'][df['school_type'] == 'Engineering'],\n",
    "              df['log_salincrease'][df['school_type'] == 'Party'])"
   ]
  },
  {
   "cell_type": "markdown",
   "metadata": {},
   "source": [
    "#### Post-hoc Testing(TUKEY’S HSD POST-HOC COMPARISON) for increase in salary to school type"
   ]
  },
  {
   "cell_type": "code",
   "execution_count": 40,
   "metadata": {},
   "outputs": [
    {
     "data": {
      "text/html": [
       "<table class=\"simpletable\">\n",
       "<caption>Multiple Comparison of Means - Tukey HSD, FWER=0.05</caption>\n",
       "<tr>\n",
       "     <th>group1</th>       <th>group2</th>    <th>meandiff</th>  <th>p-adj</th>  <th>lower</th>   <th>upper</th>  <th>reject</th>\n",
       "</tr>\n",
       "<tr>\n",
       "   <td>Engineering</td>  <td>Ivy League</td>   <td>0.3099</td>  <td>0.0137</td> <td>0.0433</td>  <td>0.5766</td>   <td>True</td> \n",
       "</tr>\n",
       "<tr>\n",
       "   <td>Engineering</td> <td>Liberal Arts</td>  <td>-0.0186</td>   <td>0.9</td>  <td>-0.2449</td> <td>0.2078</td>   <td>False</td>\n",
       "</tr>\n",
       "<tr>\n",
       "   <td>Engineering</td>     <td>Party</td>     <td>-0.1149</td> <td>0.5538</td> <td>-0.3253</td> <td>0.0955</td>   <td>False</td>\n",
       "</tr>\n",
       "<tr>\n",
       "   <td>Engineering</td>     <td>State</td>     <td>-0.2521</td>  <td>0.001</td> <td>-0.416</td>  <td>-0.0882</td>  <td>True</td> \n",
       "</tr>\n",
       "<tr>\n",
       "   <td>Ivy League</td>  <td>Liberal Arts</td>  <td>-0.3285</td> <td>0.0084</td> <td>-0.5985</td> <td>-0.0585</td>  <td>True</td> \n",
       "</tr>\n",
       "<tr>\n",
       "   <td>Ivy League</td>      <td>Party</td>     <td>-0.4249</td>  <td>0.001</td> <td>-0.6816</td> <td>-0.1681</td>  <td>True</td> \n",
       "</tr>\n",
       "<tr>\n",
       "   <td>Ivy League</td>      <td>State</td>     <td>-0.562</td>   <td>0.001</td> <td>-0.7823</td> <td>-0.3418</td>  <td>True</td> \n",
       "</tr>\n",
       "<tr>\n",
       "  <td>Liberal Arts</td>     <td>Party</td>     <td>-0.0964</td> <td>0.7047</td> <td>-0.3109</td> <td>0.1182</td>   <td>False</td>\n",
       "</tr>\n",
       "<tr>\n",
       "  <td>Liberal Arts</td>     <td>State</td>     <td>-0.2335</td> <td>0.0018</td> <td>-0.4027</td> <td>-0.0643</td>  <td>True</td> \n",
       "</tr>\n",
       "<tr>\n",
       "      <td>Party</td>        <td>State</td>     <td>-0.1371</td>  <td>0.081</td> <td>-0.2843</td>  <td>0.01</td>    <td>False</td>\n",
       "</tr>\n",
       "</table>"
      ],
      "text/plain": [
       "<class 'statsmodels.iolib.table.SimpleTable'>"
      ]
     },
     "execution_count": 40,
     "metadata": {},
     "output_type": "execute_result"
    },
    {
     "data": {
      "image/png": "[encoded data removed]",
      "text/plain": [
       "<Figure size 720x432 with 1 Axes>"
      ]
     },
     "metadata": {
      "needs_background": "light"
     },
     "output_type": "display_data"
    }
   ],
   "source": [
    "from statsmodels.stats.multicomp import pairwise_tukeyhsd\n",
    "\n",
    "tukey = pairwise_tukeyhsd(endog=df['log_salincrease'],     # Data\n",
    "                          groups=df['school_type'],   # Groups\n",
    "                          alpha=0.05)          # Significance level\n",
    "\n",
    "tukey.plot_simultaneous()    # Plot group confidence intervals\n",
    "plt.vlines(x=49.57,ymin=-0.5,ymax=4.5, color=\"red\")\n",
    "\n",
    "tukey.summary()  "
   ]
  },
  {
   "cell_type": "markdown",
   "metadata": {},
   "source": [
    "### Conclusion\n",
    "                 "
   ]
  },
  {
   "cell_type": "markdown",
   "metadata": {},
   "source": []
  },
  {
   "cell_type": "markdown",
   "metadata": {},
   "source": [
    "\n",
    "##### 1.   First Part of hypothesis is true. \n",
    "1. School type you have graduated from has a significant impact on your starting median salary.\n",
    "2. Starting Median Salary is not statistically different for IVY league and enginnering school type.\n",
    "###### 2. Second part of hypothesis is also validated .Salary increase in mid career is also significantly affected by school type.\n",
    "1. Student from Ivy league college expereince high salary increase in mid career."
   ]
  },
  {
   "cell_type": "code",
   "execution_count": null,
   "metadata": {},
   "outputs": [],
   "source": []
  }
 ],
 "metadata": {
  "kernelspec": {
   "display_name": "Python 3",
   "language": "python",
   "name": "python3"
  },
  "language_info": {
   "codemirror_mode": {
    "name": "ipython",
    "version": 3
   },
   "file_extension": ".py",
   "mimetype": "text/x-python",
   "name": "python",
   "nbconvert_exporter": "python",
   "pygments_lexer": "ipython3",
   "version": "3.7.4"
  }
 },
 "nbformat": 4,
 "nbformat_minor": 2
}
